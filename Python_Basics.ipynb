{
  "nbformat": 4,
  "nbformat_minor": 0,
  "metadata": {
    "colab": {
      "provenance": []
    },
    "kernelspec": {
      "name": "python3",
      "display_name": "Python 3"
    },
    "language_info": {
      "name": "python"
    }
  },
  "cells": [
    {
      "cell_type": "code",
      "execution_count": null,
      "metadata": {
        "id": "N1RTodwAMeBN"
      },
      "outputs": [],
      "source": []
    },
    {
      "cell_type": "markdown",
      "source": [
        "1. What is Python, and why is it popular?\n",
        "  - Python is a high-level, interpreted programming language known for its simplicity, readability, and versatility. It is widely used for web development, data science, artificial intelligence, automation.\n",
        "  \n",
        "  Reasons for Python's Popularity\n",
        " - Easy to Learn & Read\n",
        " - Versatile\n",
        " - Huge Community Support\n",
        " - Extensive Libraries\n",
        " - Cross-Platform\n",
        " - Strong Job Demand\n",
        "\n",
        "\n",
        " 2. What is an interpreter in Python?\n",
        "  - An interpreter in Python is a program that executes Python code line by line, converting it into machine code at runtime. Unlike compilers, it doesn't generate a separate executable file. This makes Python flexible, platform-independent, and easy to debug, but slightly slower than compiled languages. Examples include CPython, PyPy, and Jython.\n",
        "\n",
        "3. What are pre-defined keywords in Python?\n",
        " - Pre-defined keywords in Python are reserved words that have special meanings and cannot be used as variable names, function names, or identifiers. These keywords define the syntax and structure of the Python language.\n",
        " Examples of Python Keywords:\n",
        " - Control Flow: if, else, elif, while, for, break, continue, pass\n",
        " - Data Types: True, False, None\n",
        " - Logical Operators: and, or, not, is, in and etc.\n",
        "\n",
        "4. Can keywords be used as variable names?\n",
        "  - No, keywords cannot be used as variable names in Python.\n",
        "\n",
        "5. What is mutability in Python?\n",
        "  - Mutability in Python refers to whether an object’s value can be changed after it is created.\n",
        "\n",
        "6. Why are lists mutable, but tuples are immutable?\n",
        "  - Lists are mutable because they store references to objects and allow modification of their elements, making them flexible for dynamic operations.\n",
        "\n",
        " - Tuples are immutable because they are designed for fixed, hashable data, ensuring stability and better performance in key-value structures like dictionaries. This immutability also enhances security and prevents accidental modifications.\n",
        "\n",
        "7. What is the difference between “==” and “is” operators in Python?\n",
        "  - \"==\" (Equality Operator) Checks value equality (whether two variables have the same content).\n",
        " - is (Identity Operator) Checks object identity (whether two variables point to the same memory location).\n",
        "\n",
        "8. What are logical operators in Python?\n",
        " - Logical operators are used to combine conditional statements and return Boolean values (True or False) based on conditions.\n",
        "\n",
        " Types of Logical Operators:\n",
        " - and\n",
        " - or\n",
        " - not\n",
        "9. What is type casting in Python?\n",
        " - Type casting in Python is converting one data type into another, either implicitly (done by Python) or explicitly (done by the programmer).\n",
        "\n",
        "10. What is the difference between implicit and explicit type casting?\n",
        " - Explicit Type Casting\n",
        "Using functions like:\n",
        "\n",
        "- int() → Converts to integer\n",
        "- float() → Converts to float\n",
        "- str() → Converts to string\n",
        "- list(), tuple(), set() → Converts between collections\n",
        "\n",
        "  - Implicit Type Casting\n",
        "\n",
        "- Python automatically converts smaller data types to larger ones.\n",
        "\n",
        "11. What is the purpose of conditional statements in Python?\n",
        "- Conditional statements control the flow of a program by executing different blocks of code based on conditions. They allow decision-making in a program.\n",
        "\n",
        "12. How does the elif statement work?\n",
        "- The elif statement in Python is used to check multiple conditions after an if statement. If the first condition is False, it checks the elif condition, and so on. If none are True, the else block executes.\n",
        "13. What is the difference between for and while loops?\n",
        " - Both for and while loops are used for iteration, but they work differently.\n",
        "\n",
        "- for Loop:\n",
        "\n",
        " The for loop is used when the number of iterations is known or when iterating over a sequence (like lists, strings, or ranges). It automatically stops when the sequence ends.\n",
        "- while Loop:\n",
        "\n",
        " The while loop is used when the number of iterations is unknown and continues running as long as the condition is True.\n",
        "\n",
        "14. Describe a scenario where a while loop is more suitable than a for loop?\n",
        "- A password authentication system is a great example where a while loop is more suitable than a for loop. Since we don’t know in advance how many attempts the user will need, a while loop allows us to keep asking for the correct password until it's entered."
      ],
      "metadata": {
        "id": "zjDmG6xFM76E"
      }
    },
    {
      "cell_type": "code",
      "source": [
        "#Practical Questions\n",
        "# 1. Write a Python program to print \"Hello, World!_\n",
        "print(\"Hello, World!\")\n"
      ],
      "metadata": {
        "colab": {
          "base_uri": "https://localhost:8080/"
        },
        "id": "UCNjqQAlTE8D",
        "outputId": "1470964d-7a51-4b73-de05-ee728a50dedb"
      },
      "execution_count": 2,
      "outputs": [
        {
          "output_type": "stream",
          "name": "stdout",
          "text": [
            "Hello, World!\n"
          ]
        }
      ]
    },
    {
      "cell_type": "code",
      "source": [
        "# 2. Write a Python program that displays your name and age\n",
        "\n",
        "name = \"Mehar\"\n",
        "age = 18\n",
        "\n",
        "print(\"My name is\", name)\n",
        "print(\"I am\", age, \"years old\")\n"
      ],
      "metadata": {
        "colab": {
          "base_uri": "https://localhost:8080/"
        },
        "id": "IVsKDtJ_Whkh",
        "outputId": "2a1569a4-78b7-4758-b60b-09bc39b60402"
      },
      "execution_count": 3,
      "outputs": [
        {
          "output_type": "stream",
          "name": "stdout",
          "text": [
            "My name is Mehar\n",
            "I am 18 years old\n"
          ]
        }
      ]
    },
    {
      "cell_type": "code",
      "source": [
        "# 3. Write code to print all the pre-defined keywords in Python using the keyword library?\n",
        "import keyword\n",
        "# Print all Python keywords\n",
        "print(\"Python Keywords:\")\n",
        "print(keyword.kwlist)\n"
      ],
      "metadata": {
        "colab": {
          "base_uri": "https://localhost:8080/"
        },
        "id": "VQk2QYgdW3iL",
        "outputId": "2d36bb24-64f3-483c-e9e9-7e418eb7726a"
      },
      "execution_count": 4,
      "outputs": [
        {
          "output_type": "stream",
          "name": "stdout",
          "text": [
            "Python Keywords:\n",
            "['False', 'None', 'True', 'and', 'as', 'assert', 'async', 'await', 'break', 'class', 'continue', 'def', 'del', 'elif', 'else', 'except', 'finally', 'for', 'from', 'global', 'if', 'import', 'in', 'is', 'lambda', 'nonlocal', 'not', 'or', 'pass', 'raise', 'return', 'try', 'while', 'with', 'yield']\n"
          ]
        }
      ]
    },
    {
      "cell_type": "code",
      "source": [
        "# 4. Write a program that checks if a given word is a Python keyword?\n",
        "import keyword\n",
        "\n",
        "word = input(\"Enter a word: \")\n",
        "\n",
        "if keyword.iskeyword(word):\n",
        "    print(f\"'{word}' is a Python keyword.\")\n"
      ],
      "metadata": {
        "colab": {
          "base_uri": "https://localhost:8080/"
        },
        "id": "rfirG_qSXIbb",
        "outputId": "9b66f274-0559-421e-bb61-7a6e4b423e13"
      },
      "execution_count": 5,
      "outputs": [
        {
          "name": "stdout",
          "output_type": "stream",
          "text": [
            "Enter a word: 1234\n"
          ]
        }
      ]
    },
    {
      "cell_type": "code",
      "source": [
        "# 5. Create a list and tuple in Python, and demonstrate how attempting to change an element works differently for each?\n",
        "my_list = [10, 20, 30]\n",
        "print(\"Original List:\", my_list)\n",
        "\n",
        "my_list[1] = 25\n",
        "print(\"Modified List:\", my_list)\n",
        "\n",
        "my_tuple = (10, 20, 30)\n",
        "print(\"\\nOriginal Tuple:\", my_tuple)\n",
        "\n",
        "try:\n",
        "    my_tuple[1] = 25\n",
        "except TypeError as e:\n",
        "    print(\"Error:\", e)\n"
      ],
      "metadata": {
        "colab": {
          "base_uri": "https://localhost:8080/"
        },
        "id": "Mxr_a8UWXtDh",
        "outputId": "08ca6a22-4458-477c-99a4-e0b38efd64e1"
      },
      "execution_count": 6,
      "outputs": [
        {
          "output_type": "stream",
          "name": "stdout",
          "text": [
            "Original List: [10, 20, 30]\n",
            "Modified List: [10, 25, 30]\n",
            "\n",
            "Original Tuple: (10, 20, 30)\n",
            "Error: 'tuple' object does not support item assignment\n"
          ]
        }
      ]
    },
    {
      "cell_type": "code",
      "source": [
        "# 6. Write a function to demonstrate the behavior of mutable and immutable arguments\n",
        "def modify_values(num, my_list):\n",
        "    # immutable\n",
        "    num += 10\n",
        "    print(\"Inside function (num):\", num)\n",
        "\n",
        "    # mutable\n",
        "    my_list.append(4)\n",
        "    print(\"Inside function (list):\", my_list)\n",
        "\n",
        "\n",
        "x = 5  # Immutable\n",
        "lst = [1, 2, 3]  # Mutable\n",
        "\n",
        "print(\"Before function call:\")\n",
        "print(\"x:\", x)\n",
        "print(\"lst:\", lst)\n",
        "\n",
        "modify_values(x, lst)\n",
        "\n",
        "print(\"\\nAfter function call:\")\n",
        "print(\"x:\", x)  #  Unchanged (Immutable)\n",
        "print(\"lst:\", lst)  # Changed (Mutable)\n",
        "\n"
      ],
      "metadata": {
        "colab": {
          "base_uri": "https://localhost:8080/"
        },
        "id": "-YZ6LpVwYJ-o",
        "outputId": "0b61054a-c8be-4036-c773-4c56416bbdcf"
      },
      "execution_count": 8,
      "outputs": [
        {
          "output_type": "stream",
          "name": "stdout",
          "text": [
            "Before function call:\n",
            "x: 5\n",
            "lst: [1, 2, 3]\n",
            "Inside function (num): 15\n",
            "Inside function (list): [1, 2, 3, 4]\n",
            "\n",
            "After function call:\n",
            "x: 5\n",
            "lst: [1, 2, 3, 4]\n"
          ]
        }
      ]
    },
    {
      "cell_type": "code",
      "source": [
        "# 7.  Write a function to demonstrate the behavior of mutable and immutable arguments0\n",
        "    # answer- same as 6 question."
      ],
      "metadata": {
        "id": "8hz0g7eHY0vP"
      },
      "execution_count": null,
      "outputs": []
    },
    {
      "cell_type": "code",
      "source": [
        "# 8. Write a program to demonstrate the use of logical operators\n",
        "\n",
        "age = int(input(\"Enter your age: \"))\n",
        "income = int(input(\"Enter your monthly income: \"))\n",
        "\n",
        "\n",
        "\n",
        "if age > 21 and income > 25000:\n",
        "    print(\" You are eligible for a loan.\")\n",
        "else:\n",
        "    print(\" You are not eligible for a loan.\")\n",
        "\n",
        "\n",
        "if age < 18 or income < 10000:\n",
        "    print(\" You can apply for a scholarship.\")\n",
        "else:\n",
        "    print(\" You are not eligible for a scholarship.\")\n",
        "\n",
        "\n",
        "is_minor = age < 18\n",
        "if not is_minor:\n",
        "    print(\" You are an adult.\")\n",
        "else:\n",
        "    print(\" You are a minor.\")\n"
      ],
      "metadata": {
        "colab": {
          "base_uri": "https://localhost:8080/"
        },
        "id": "j4gJ1pr5ZEIr",
        "outputId": "490f7b97-8db3-455f-ec3c-b425e514c497"
      },
      "execution_count": 9,
      "outputs": [
        {
          "output_type": "stream",
          "name": "stdout",
          "text": [
            "Enter your age: 18\n",
            "Enter your monthly income: 5000\n",
            " You are not eligible for a loan.\n",
            " You can apply for a scholarship.\n",
            " You are an adult.\n"
          ]
        }
      ]
    },
    {
      "cell_type": "code",
      "source": [
        "# 9. Write a Python program to convert user input from string to integer, float, and boolean types\n",
        "user_input = input(\"Enter a value: \")\n",
        "\n",
        "# Convert to Integer\n",
        "try:\n",
        "    int_value = int(user_input)\n",
        "    print(\"Integer:\", int_value)\n",
        "except ValueError:\n",
        "    print(\"Cannot convert to Integer\")\n",
        "\n",
        "# Convert to Float\n",
        "try:\n",
        "    float_value = float(user_input)\n",
        "    print(\"Float:\", float_value)\n",
        "except ValueError:\n",
        "    print(\"Cannot convert to Float\")\n",
        "\n",
        "# Convert to Boolean\n",
        "bool_value = bool(user_input)  # Empty string is False, non-empty is True\n",
        "print(\"Boolean:\", bool_value)\n"
      ],
      "metadata": {
        "colab": {
          "base_uri": "https://localhost:8080/"
        },
        "id": "-2qTmi9DZnbn",
        "outputId": "d4278b0d-d0a6-4426-aff1-9fd9ec34e8aa"
      },
      "execution_count": 11,
      "outputs": [
        {
          "output_type": "stream",
          "name": "stdout",
          "text": [
            "Enter a value: 5.5\n",
            "Cannot convert to Integer\n",
            "Float: 5.5\n",
            "Boolean: True\n"
          ]
        }
      ]
    },
    {
      "cell_type": "code",
      "source": [
        "# 10. Write code to demonstrate type casting with list elements.\n",
        "\n",
        "str_list = [\"10\", \"20.5\", \"30\", \"True\"]\n",
        "\n",
        "int_list = [int(x) for x in str_list if x.isdigit()]\n",
        "\n",
        "# Convert all possible elements to float\n",
        "float_list = []\n",
        "for x in str_list:\n",
        "    try:\n",
        "        float_list.append(float(x))\n",
        "    except ValueError:\n",
        "        pass\n",
        "\n",
        "# Convert all elements to boolean\n",
        "bool_list = [bool(x) for x in str_list]\n",
        "\n",
        "# Display results\n",
        "print(\"Original List (Strings):\", str_list)\n",
        "print(\"Converted to Integers:\", int_list)\n",
        "print(\"Converted to Floats:\", float_list)\n",
        "print(\"Converted to Booleans:\", bool_list)\n",
        "\n"
      ],
      "metadata": {
        "colab": {
          "base_uri": "https://localhost:8080/"
        },
        "id": "jUXbKEYcaBO1",
        "outputId": "073be373-c4bd-4904-95a6-907f92ef2eed"
      },
      "execution_count": 14,
      "outputs": [
        {
          "output_type": "stream",
          "name": "stdout",
          "text": [
            "Original List (Strings): ['10', '20.5', '30', 'True']\n",
            "Converted to Integers: [10, 30]\n",
            "Converted to Floats: [10.0, 20.5, 30.0]\n",
            "Converted to Booleans: [True, True, True, True]\n"
          ]
        }
      ]
    },
    {
      "cell_type": "code",
      "source": [
        "# 11. Write a program that checks if a number is positive, negative, or zero.\n",
        "num = float(input(\"Enter a number: \"))\n",
        "\n",
        "if num > 0:\n",
        "    print(\"The number is positive.\")\n",
        "elif num < 0:\n",
        "    print(\"The number is negative.\")\n",
        "else:\n",
        "    print(\"The number is zero.\")\n",
        "\n"
      ],
      "metadata": {
        "colab": {
          "base_uri": "https://localhost:8080/"
        },
        "id": "6plyMbbebGcN",
        "outputId": "f8750b45-94f3-4ad5-dcc7-ba2f17bc7bfc"
      },
      "execution_count": 15,
      "outputs": [
        {
          "output_type": "stream",
          "name": "stdout",
          "text": [
            "Enter a number: 5\n",
            "The number is positive.\n"
          ]
        }
      ]
    },
    {
      "cell_type": "code",
      "source": [
        "# 12. Write a for loop to print numbers from 1 to 100.\n",
        "for num in range(1, 101):\n",
        "    print(num)"
      ],
      "metadata": {
        "colab": {
          "base_uri": "https://localhost:8080/"
        },
        "id": "gsCIewUmbdc8",
        "outputId": "e91c7c07-de49-4294-94c1-13996cf985ad"
      },
      "execution_count": 16,
      "outputs": [
        {
          "output_type": "stream",
          "name": "stdout",
          "text": [
            "1\n",
            "2\n",
            "3\n",
            "4\n",
            "5\n",
            "6\n",
            "7\n",
            "8\n",
            "9\n",
            "10\n",
            "11\n",
            "12\n",
            "13\n",
            "14\n",
            "15\n",
            "16\n",
            "17\n",
            "18\n",
            "19\n",
            "20\n",
            "21\n",
            "22\n",
            "23\n",
            "24\n",
            "25\n",
            "26\n",
            "27\n",
            "28\n",
            "29\n",
            "30\n",
            "31\n",
            "32\n",
            "33\n",
            "34\n",
            "35\n",
            "36\n",
            "37\n",
            "38\n",
            "39\n",
            "40\n",
            "41\n",
            "42\n",
            "43\n",
            "44\n",
            "45\n",
            "46\n",
            "47\n",
            "48\n",
            "49\n",
            "50\n",
            "51\n",
            "52\n",
            "53\n",
            "54\n",
            "55\n",
            "56\n",
            "57\n",
            "58\n",
            "59\n",
            "60\n",
            "61\n",
            "62\n",
            "63\n",
            "64\n",
            "65\n",
            "66\n",
            "67\n",
            "68\n",
            "69\n",
            "70\n",
            "71\n",
            "72\n",
            "73\n",
            "74\n",
            "75\n",
            "76\n",
            "77\n",
            "78\n",
            "79\n",
            "80\n",
            "81\n",
            "82\n",
            "83\n",
            "84\n",
            "85\n",
            "86\n",
            "87\n",
            "88\n",
            "89\n",
            "90\n",
            "91\n",
            "92\n",
            "93\n",
            "94\n",
            "95\n",
            "96\n",
            "97\n",
            "98\n",
            "99\n",
            "100\n"
          ]
        }
      ]
    },
    {
      "cell_type": "code",
      "source": [
        "# 13. Write a Python program to find the sum of all even numbers between 1 and 500.\n",
        "sum_even = 0\n",
        "\n",
        "for num in range(2, 501, 2):\n",
        "    sum_even += num\n",
        "\n",
        "print(\"The sum of even numbers between 1 and 500 is:\", sum_even)\n"
      ],
      "metadata": {
        "colab": {
          "base_uri": "https://localhost:8080/"
        },
        "id": "prmRex_1bpxc",
        "outputId": "09b2e3e7-906f-4410-a336-20c98240832d"
      },
      "execution_count": 17,
      "outputs": [
        {
          "output_type": "stream",
          "name": "stdout",
          "text": [
            "The sum of even numbers between 1 and 500 is: 62750\n"
          ]
        }
      ]
    },
    {
      "cell_type": "code",
      "source": [
        "# 14. Write a program to reverse a string using a while loop.\n",
        "\n",
        "string = input(\"Enter a string: \")\n",
        "\n",
        "reversed_string = \"\"\n",
        "index = len(string) - 1\n",
        "\n",
        "while index >= 0:\n",
        "    reversed_string += string[index]\n",
        "    index -= 1\n",
        "print(\"Reversed String:\", reversed_string)\n"
      ],
      "metadata": {
        "colab": {
          "base_uri": "https://localhost:8080/"
        },
        "id": "_bF1GsXNbz5c",
        "outputId": "40924298-b13a-4a1a-dd42-0015419d1222"
      },
      "execution_count": 19,
      "outputs": [
        {
          "output_type": "stream",
          "name": "stdout",
          "text": [
            "Enter a string: pwskills\n",
            "Reversed String: sllikswp\n"
          ]
        }
      ]
    },
    {
      "cell_type": "code",
      "source": [
        "# 15. Write a Python program to calculate the factorial of a number provided by the user using a while loop.\n",
        "num = int(input(\"Enter a number: \"))\n",
        "\n",
        "factorial = 1\n",
        "current = 1\n",
        "\n",
        "while current <= num:\n",
        "    factorial *= current\n",
        "    current += 1\n",
        "\n",
        "print(f\"The factorial of {num} is {factorial}\")\n"
      ],
      "metadata": {
        "colab": {
          "base_uri": "https://localhost:8080/"
        },
        "id": "9dkB16IdcQnb",
        "outputId": "a1512650-aff3-40d1-8775-b03396f9fc12"
      },
      "execution_count": 21,
      "outputs": [
        {
          "output_type": "stream",
          "name": "stdout",
          "text": [
            "Enter a number: 69\n",
            "The factorial of 69 is 171122452428141311372468338881272839092270544893520369393648040923257279754140647424000000000000000\n"
          ]
        }
      ]
    }
  ]
}